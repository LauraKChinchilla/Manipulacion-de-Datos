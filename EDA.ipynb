{
 "cells": [
  {
   "cell_type": "code",
   "execution_count": 2,
   "id": "f536e8d0-95dc-4cc8-952b-c045ea2c89f8",
   "metadata": {},
   "outputs": [],
   "source": [
    "import pandas as pd\n",
    "import numpy as np\n",
    "\n",
    "from datetime import date"
   ]
  },
  {
   "cell_type": "markdown",
   "id": "585e931c-47dd-4420-b433-65546f980570",
   "metadata": {},
   "source": [
    "### Importando dataset e-commerce\n",
    "\n",
    "Para mas informacion del dataset, consulte en el siguiente [link](https://www.kaggle.com/datasets/carrie1/ecommerce-data) "
   ]
  },
  {
   "cell_type": "code",
   "execution_count": 3,
   "id": "9015229e-beac-4546-bf9d-deeecec148f8",
   "metadata": {},
   "outputs": [],
   "source": [
    "ecommerce = pd.read_csv(\"data.csv\")"
   ]
  },
  {
   "cell_type": "code",
   "execution_count": 5,
   "id": "29f93f92-c02b-499f-90a2-bbfdfedc181d",
   "metadata": {},
   "outputs": [
    {
     "data": {
      "text/html": [
       "<div>\n",
       "<style scoped>\n",
       "    .dataframe tbody tr th:only-of-type {\n",
       "        vertical-align: middle;\n",
       "    }\n",
       "\n",
       "    .dataframe tbody tr th {\n",
       "        vertical-align: top;\n",
       "    }\n",
       "\n",
       "    .dataframe thead th {\n",
       "        text-align: right;\n",
       "    }\n",
       "</style>\n",
       "<table border=\"1\" class=\"dataframe\">\n",
       "  <thead>\n",
       "    <tr style=\"text-align: right;\">\n",
       "      <th></th>\n",
       "      <th>InvoiceNo</th>\n",
       "      <th>StockCode</th>\n",
       "      <th>Description</th>\n",
       "      <th>Quantity</th>\n",
       "      <th>InvoiceDate</th>\n",
       "      <th>UnitPrice</th>\n",
       "      <th>CustomerID</th>\n",
       "      <th>Country</th>\n",
       "    </tr>\n",
       "  </thead>\n",
       "  <tbody>\n",
       "    <tr>\n",
       "      <th>0</th>\n",
       "      <td>536365</td>\n",
       "      <td>85123A</td>\n",
       "      <td>WHITE HANGING HEART T-LIGHT HOLDER</td>\n",
       "      <td>6</td>\n",
       "      <td>12/1/2010 8:26</td>\n",
       "      <td>2.55</td>\n",
       "      <td>17850.0</td>\n",
       "      <td>United Kingdom</td>\n",
       "    </tr>\n",
       "    <tr>\n",
       "      <th>1</th>\n",
       "      <td>536365</td>\n",
       "      <td>71053</td>\n",
       "      <td>WHITE METAL LANTERN</td>\n",
       "      <td>6</td>\n",
       "      <td>12/1/2010 8:26</td>\n",
       "      <td>3.39</td>\n",
       "      <td>17850.0</td>\n",
       "      <td>United Kingdom</td>\n",
       "    </tr>\n",
       "    <tr>\n",
       "      <th>2</th>\n",
       "      <td>536365</td>\n",
       "      <td>84406B</td>\n",
       "      <td>CREAM CUPID HEARTS COAT HANGER</td>\n",
       "      <td>8</td>\n",
       "      <td>12/1/2010 8:26</td>\n",
       "      <td>2.75</td>\n",
       "      <td>17850.0</td>\n",
       "      <td>United Kingdom</td>\n",
       "    </tr>\n",
       "    <tr>\n",
       "      <th>3</th>\n",
       "      <td>536365</td>\n",
       "      <td>84029G</td>\n",
       "      <td>KNITTED UNION FLAG HOT WATER BOTTLE</td>\n",
       "      <td>6</td>\n",
       "      <td>12/1/2010 8:26</td>\n",
       "      <td>3.39</td>\n",
       "      <td>17850.0</td>\n",
       "      <td>United Kingdom</td>\n",
       "    </tr>\n",
       "    <tr>\n",
       "      <th>4</th>\n",
       "      <td>536365</td>\n",
       "      <td>84029E</td>\n",
       "      <td>RED WOOLLY HOTTIE WHITE HEART.</td>\n",
       "      <td>6</td>\n",
       "      <td>12/1/2010 8:26</td>\n",
       "      <td>3.39</td>\n",
       "      <td>17850.0</td>\n",
       "      <td>United Kingdom</td>\n",
       "    </tr>\n",
       "  </tbody>\n",
       "</table>\n",
       "</div>"
      ],
      "text/plain": [
       "  InvoiceNo StockCode                          Description  Quantity  \\\n",
       "0    536365    85123A   WHITE HANGING HEART T-LIGHT HOLDER         6   \n",
       "1    536365     71053                  WHITE METAL LANTERN         6   \n",
       "2    536365    84406B       CREAM CUPID HEARTS COAT HANGER         8   \n",
       "3    536365    84029G  KNITTED UNION FLAG HOT WATER BOTTLE         6   \n",
       "4    536365    84029E       RED WOOLLY HOTTIE WHITE HEART.         6   \n",
       "\n",
       "      InvoiceDate  UnitPrice  CustomerID         Country  \n",
       "0  12/1/2010 8:26       2.55     17850.0  United Kingdom  \n",
       "1  12/1/2010 8:26       3.39     17850.0  United Kingdom  \n",
       "2  12/1/2010 8:26       2.75     17850.0  United Kingdom  \n",
       "3  12/1/2010 8:26       3.39     17850.0  United Kingdom  \n",
       "4  12/1/2010 8:26       3.39     17850.0  United Kingdom  "
      ]
     },
     "execution_count": 5,
     "metadata": {},
     "output_type": "execute_result"
    }
   ],
   "source": [
    "ecommerce.head(5)"
   ]
  },
  {
   "cell_type": "code",
   "execution_count": 6,
   "id": "3f1a91b1-2a14-4e75-8c45-417b78cf1310",
   "metadata": {},
   "outputs": [
    {
     "data": {
      "text/plain": [
       "(541909, 8)"
      ]
     },
     "execution_count": 6,
     "metadata": {},
     "output_type": "execute_result"
    }
   ],
   "source": [
    "ecommerce.shape"
   ]
  },
  {
   "cell_type": "markdown",
   "id": "8650b37c-cd28-4923-ae94-908dadf4bf69",
   "metadata": {},
   "source": [
    "### cast de fechas y tratamiento de columnas Dias, mes, año"
   ]
  },
  {
   "cell_type": "code",
   "execution_count": 7,
   "id": "4523f5e7-902a-4057-b5c7-66c9eea3e63f",
   "metadata": {},
   "outputs": [
    {
     "data": {
      "text/plain": [
       "InvoiceNo       object\n",
       "StockCode       object\n",
       "Description     object\n",
       "Quantity         int64\n",
       "InvoiceDate     object\n",
       "UnitPrice      float64\n",
       "CustomerID     float64\n",
       "Country         object\n",
       "dtype: object"
      ]
     },
     "execution_count": 7,
     "metadata": {},
     "output_type": "execute_result"
    }
   ],
   "source": [
    "ecommerce.dtypes"
   ]
  },
  {
   "cell_type": "code",
   "execution_count": 8,
   "id": "1b6dc6a7-c51b-445f-89df-7a8da46950bb",
   "metadata": {},
   "outputs": [],
   "source": [
    "ecommerce[\"InvoiceDate\"] = pd.to_datetime(ecommerce[\"InvoiceDate\"])"
   ]
  },
  {
   "cell_type": "code",
   "execution_count": 9,
   "id": "5948f0a8-8a04-4bd0-b111-919ce302e0a8",
   "metadata": {},
   "outputs": [
    {
     "data": {
      "text/plain": [
       "InvoiceNo              object\n",
       "StockCode              object\n",
       "Description            object\n",
       "Quantity                int64\n",
       "InvoiceDate    datetime64[ns]\n",
       "UnitPrice             float64\n",
       "CustomerID            float64\n",
       "Country                object\n",
       "dtype: object"
      ]
     },
     "execution_count": 9,
     "metadata": {},
     "output_type": "execute_result"
    }
   ],
   "source": [
    "ecommerce.dtypes"
   ]
  },
  {
   "cell_type": "code",
   "execution_count": 10,
   "id": "3bf11eef-d788-4bfd-b5f0-37768065e74c",
   "metadata": {},
   "outputs": [
    {
     "data": {
      "text/html": [
       "<div>\n",
       "<style scoped>\n",
       "    .dataframe tbody tr th:only-of-type {\n",
       "        vertical-align: middle;\n",
       "    }\n",
       "\n",
       "    .dataframe tbody tr th {\n",
       "        vertical-align: top;\n",
       "    }\n",
       "\n",
       "    .dataframe thead th {\n",
       "        text-align: right;\n",
       "    }\n",
       "</style>\n",
       "<table border=\"1\" class=\"dataframe\">\n",
       "  <thead>\n",
       "    <tr style=\"text-align: right;\">\n",
       "      <th></th>\n",
       "      <th>InvoiceNo</th>\n",
       "      <th>StockCode</th>\n",
       "      <th>Description</th>\n",
       "      <th>Quantity</th>\n",
       "      <th>InvoiceDate</th>\n",
       "      <th>UnitPrice</th>\n",
       "      <th>CustomerID</th>\n",
       "      <th>Country</th>\n",
       "    </tr>\n",
       "  </thead>\n",
       "  <tbody>\n",
       "    <tr>\n",
       "      <th>0</th>\n",
       "      <td>536365</td>\n",
       "      <td>85123A</td>\n",
       "      <td>WHITE HANGING HEART T-LIGHT HOLDER</td>\n",
       "      <td>6</td>\n",
       "      <td>2010-12-01 08:26:00</td>\n",
       "      <td>2.55</td>\n",
       "      <td>17850.0</td>\n",
       "      <td>United Kingdom</td>\n",
       "    </tr>\n",
       "  </tbody>\n",
       "</table>\n",
       "</div>"
      ],
      "text/plain": [
       "  InvoiceNo StockCode                         Description  Quantity  \\\n",
       "0    536365    85123A  WHITE HANGING HEART T-LIGHT HOLDER         6   \n",
       "\n",
       "          InvoiceDate  UnitPrice  CustomerID         Country  \n",
       "0 2010-12-01 08:26:00       2.55     17850.0  United Kingdom  "
      ]
     },
     "execution_count": 10,
     "metadata": {},
     "output_type": "execute_result"
    }
   ],
   "source": [
    "ecommerce.head(1)"
   ]
  },
  {
   "cell_type": "code",
   "execution_count": 12,
   "id": "31abe82c-bd2d-4dfa-adfb-46fc2919743d",
   "metadata": {},
   "outputs": [],
   "source": [
    "ecommerce[\"year\"] = ecommerce[\"InvoiceDate\"].dt.year\n",
    "ecommerce[\"month\"] = ecommerce[\"InvoiceDate\"].dt.month\n",
    "ecommerce[\"day\"] = ecommerce[\"InvoiceDate\"].dt.day"
   ]
  },
  {
   "cell_type": "code",
   "execution_count": 13,
   "id": "8d470a46-bd5c-4346-bbce-04172ab0592c",
   "metadata": {},
   "outputs": [
    {
     "data": {
      "text/html": [
       "<div>\n",
       "<style scoped>\n",
       "    .dataframe tbody tr th:only-of-type {\n",
       "        vertical-align: middle;\n",
       "    }\n",
       "\n",
       "    .dataframe tbody tr th {\n",
       "        vertical-align: top;\n",
       "    }\n",
       "\n",
       "    .dataframe thead th {\n",
       "        text-align: right;\n",
       "    }\n",
       "</style>\n",
       "<table border=\"1\" class=\"dataframe\">\n",
       "  <thead>\n",
       "    <tr style=\"text-align: right;\">\n",
       "      <th></th>\n",
       "      <th>InvoiceNo</th>\n",
       "      <th>StockCode</th>\n",
       "      <th>Description</th>\n",
       "      <th>Quantity</th>\n",
       "      <th>InvoiceDate</th>\n",
       "      <th>UnitPrice</th>\n",
       "      <th>CustomerID</th>\n",
       "      <th>Country</th>\n",
       "      <th>year</th>\n",
       "      <th>month</th>\n",
       "      <th>day</th>\n",
       "    </tr>\n",
       "  </thead>\n",
       "  <tbody>\n",
       "    <tr>\n",
       "      <th>0</th>\n",
       "      <td>536365</td>\n",
       "      <td>85123A</td>\n",
       "      <td>WHITE HANGING HEART T-LIGHT HOLDER</td>\n",
       "      <td>6</td>\n",
       "      <td>2010-12-01 08:26:00</td>\n",
       "      <td>2.55</td>\n",
       "      <td>17850.0</td>\n",
       "      <td>United Kingdom</td>\n",
       "      <td>2010</td>\n",
       "      <td>12</td>\n",
       "      <td>1</td>\n",
       "    </tr>\n",
       "  </tbody>\n",
       "</table>\n",
       "</div>"
      ],
      "text/plain": [
       "  InvoiceNo StockCode                         Description  Quantity  \\\n",
       "0    536365    85123A  WHITE HANGING HEART T-LIGHT HOLDER         6   \n",
       "\n",
       "          InvoiceDate  UnitPrice  CustomerID         Country  year  month  day  \n",
       "0 2010-12-01 08:26:00       2.55     17850.0  United Kingdom  2010     12    1  "
      ]
     },
     "execution_count": 13,
     "metadata": {},
     "output_type": "execute_result"
    }
   ],
   "source": [
    "ecommerce.head(1)"
   ]
  },
  {
   "cell_type": "markdown",
   "id": "44b41184-9937-4ca6-85a8-11bb254c26fc",
   "metadata": {},
   "source": [
    "#### Exploracion de paises"
   ]
  },
  {
   "cell_type": "code",
   "execution_count": 14,
   "id": "46440f57-adfa-497f-a35d-ebf67b2d5a63",
   "metadata": {},
   "outputs": [
    {
     "data": {
      "text/plain": [
       "0               United Kingdom\n",
       "26                      France\n",
       "197                  Australia\n",
       "385                Netherlands\n",
       "1109                   Germany\n",
       "1236                    Norway\n",
       "1404                      EIRE\n",
       "5320               Switzerland\n",
       "6421                     Spain\n",
       "6608                    Poland\n",
       "7134                  Portugal\n",
       "7214                     Italy\n",
       "7279                   Belgium\n",
       "7986                 Lithuania\n",
       "9783                     Japan\n",
       "14938                  Iceland\n",
       "20000          Channel Islands\n",
       "20017                  Denmark\n",
       "29732                   Cyprus\n",
       "30078                   Sweden\n",
       "31464                  Austria\n",
       "31982                   Israel\n",
       "34083                  Finland\n",
       "38313                  Bahrain\n",
       "69007                   Greece\n",
       "69623                Hong Kong\n",
       "70758                Singapore\n",
       "72985                  Lebanon\n",
       "89570     United Arab Emirates\n",
       "100810            Saudi Arabia\n",
       "103598          Czech Republic\n",
       "119191                  Canada\n",
       "152712             Unspecified\n",
       "157299                  Brazil\n",
       "164464                     USA\n",
       "168149      European Community\n",
       "217684                   Malta\n",
       "395472                     RSA\n",
       "Name: Country, dtype: object"
      ]
     },
     "execution_count": 14,
     "metadata": {},
     "output_type": "execute_result"
    }
   ],
   "source": [
    "ecommerce[\"Country\"].drop_duplicates()"
   ]
  },
  {
   "cell_type": "markdown",
   "id": "59467bac-70e6-495b-ad2a-151cafb1fd81",
   "metadata": {},
   "source": [
    "### Ejercicios"
   ]
  },
  {
   "cell_type": "markdown",
   "id": "70bb9dfe-ecad-4be0-a0fa-c480d8a1f897",
   "metadata": {},
   "source": [
    "**Ejercicio 1:** Por pais muestre cual fue el año en el que mejor ingreso se registro y su valor, adicional muestre cual fue el año con mas Invoices (Frecuencia) y otra columna con el total.\n",
    "\n",
    "Nota: Note que el año con mejor ingreso no es lo mismo con el año con mas invoices, por ejemplo en 2019 Honduras en dos invoices se facturo 10,000. sin embargo, en 2020 se realizaron 20 invoices (pueda que en este año el ingreso de esas invoices hayan sumado 7,000 inferior al 2020) \n",
    "\n",
    "*recuerde que el ejemplo es inventado*\n",
    "\n",
    "Ejemplo de como se deberia de ver el dataframe resultante:\n"
   ]
  },
  {
   "cell_type": "code",
   "execution_count": 15,
   "id": "55fe6436-310a-419a-81e0-6afcb8d382fe",
   "metadata": {},
   "outputs": [
    {
     "data": {
      "text/html": [
       "<div>\n",
       "<style scoped>\n",
       "    .dataframe tbody tr th:only-of-type {\n",
       "        vertical-align: middle;\n",
       "    }\n",
       "\n",
       "    .dataframe tbody tr th {\n",
       "        vertical-align: top;\n",
       "    }\n",
       "\n",
       "    .dataframe thead th {\n",
       "        text-align: right;\n",
       "    }\n",
       "</style>\n",
       "<table border=\"1\" class=\"dataframe\">\n",
       "  <thead>\n",
       "    <tr style=\"text-align: right;\">\n",
       "      <th></th>\n",
       "      <th>country</th>\n",
       "      <th>YearMejorIngreso</th>\n",
       "      <th>ValorYearMejorIngreso</th>\n",
       "      <th>YearMejorFrecuenciaInvoices</th>\n",
       "      <th>CantidadYearMejorFrecuenciaInvoices</th>\n",
       "    </tr>\n",
       "  </thead>\n",
       "  <tbody>\n",
       "    <tr>\n",
       "      <th>0</th>\n",
       "      <td>Honduras</td>\n",
       "      <td>2019</td>\n",
       "      <td>20000</td>\n",
       "      <td>2020</td>\n",
       "      <td>20</td>\n",
       "    </tr>\n",
       "  </tbody>\n",
       "</table>\n",
       "</div>"
      ],
      "text/plain": [
       "    country  YearMejorIngreso  ValorYearMejorIngreso  \\\n",
       "0  Honduras              2019                  20000   \n",
       "\n",
       "   YearMejorFrecuenciaInvoices  CantidadYearMejorFrecuenciaInvoices  \n",
       "0                         2020                                   20  "
      ]
     },
     "execution_count": 15,
     "metadata": {},
     "output_type": "execute_result"
    }
   ],
   "source": [
    "pd.DataFrame({\n",
    "    \"country\" : [\"Honduras\"]\n",
    "    , \"YearMejorIngreso\" : [2019]\n",
    "    , \"ValorYearMejorIngreso\" : [20000]\n",
    "    , \"YearMejorFrecuenciaInvoices\": [2020]\n",
    "    , \"CantidadYearMejorFrecuenciaInvoices\": [20]\n",
    "})"
   ]
  },
  {
   "cell_type": "markdown",
   "id": "cff03062-89d2-4e55-b2ee-29c492828efa",
   "metadata": {},
   "source": [
    "*Answer:*"
   ]
  },
  {
   "cell_type": "code",
   "execution_count": null,
   "id": "a1e38abc-f65e-4dbe-8606-5c41ddb3b665",
   "metadata": {},
   "outputs": [],
   "source": []
  },
  {
   "cell_type": "markdown",
   "id": "3c210dae-b3d4-427f-b3f8-f3aae4ba91c4",
   "metadata": {},
   "source": [
    "**Ejercicio 2:** Cual es el Top tres por año de los Invoices con mas facturado\n",
    "\n",
    "Ejemplo de como se deberia de ver el dataframe resultante (Recuerde que este es un ejemplo inventado):"
   ]
  },
  {
   "cell_type": "code",
   "execution_count": 16,
   "id": "ab5cae1b-b89b-45ef-9b19-eca935d61211",
   "metadata": {},
   "outputs": [
    {
     "data": {
      "text/html": [
       "<div>\n",
       "<style scoped>\n",
       "    .dataframe tbody tr th:only-of-type {\n",
       "        vertical-align: middle;\n",
       "    }\n",
       "\n",
       "    .dataframe tbody tr th {\n",
       "        vertical-align: top;\n",
       "    }\n",
       "\n",
       "    .dataframe thead th {\n",
       "        text-align: right;\n",
       "    }\n",
       "</style>\n",
       "<table border=\"1\" class=\"dataframe\">\n",
       "  <thead>\n",
       "    <tr style=\"text-align: right;\">\n",
       "      <th></th>\n",
       "      <th>Year</th>\n",
       "      <th>Top</th>\n",
       "      <th>InvoiceNo</th>\n",
       "      <th>TotalInvoice</th>\n",
       "    </tr>\n",
       "  </thead>\n",
       "  <tbody>\n",
       "    <tr>\n",
       "      <th>0</th>\n",
       "      <td>2019</td>\n",
       "      <td>1</td>\n",
       "      <td>536365</td>\n",
       "      <td>30000</td>\n",
       "    </tr>\n",
       "    <tr>\n",
       "      <th>1</th>\n",
       "      <td>2019</td>\n",
       "      <td>2</td>\n",
       "      <td>536999</td>\n",
       "      <td>28000</td>\n",
       "    </tr>\n",
       "    <tr>\n",
       "      <th>2</th>\n",
       "      <td>2019</td>\n",
       "      <td>3</td>\n",
       "      <td>693365</td>\n",
       "      <td>27900</td>\n",
       "    </tr>\n",
       "    <tr>\n",
       "      <th>3</th>\n",
       "      <td>2020</td>\n",
       "      <td>1</td>\n",
       "      <td>24987</td>\n",
       "      <td>29000</td>\n",
       "    </tr>\n",
       "    <tr>\n",
       "      <th>4</th>\n",
       "      <td>2020</td>\n",
       "      <td>2</td>\n",
       "      <td>56832</td>\n",
       "      <td>25000</td>\n",
       "    </tr>\n",
       "    <tr>\n",
       "      <th>5</th>\n",
       "      <td>2020</td>\n",
       "      <td>3</td>\n",
       "      <td>254232</td>\n",
       "      <td>24600</td>\n",
       "    </tr>\n",
       "  </tbody>\n",
       "</table>\n",
       "</div>"
      ],
      "text/plain": [
       "   Year  Top  InvoiceNo  TotalInvoice\n",
       "0  2019    1     536365         30000\n",
       "1  2019    2     536999         28000\n",
       "2  2019    3     693365         27900\n",
       "3  2020    1      24987         29000\n",
       "4  2020    2      56832         25000\n",
       "5  2020    3     254232         24600"
      ]
     },
     "execution_count": 16,
     "metadata": {},
     "output_type": "execute_result"
    }
   ],
   "source": [
    "pd.DataFrame({\n",
    "    \"Year\" : [2019,2019,2019,2020,2020,2020]\n",
    "    , \"Top\" : [1,2,3,1,2,3]\n",
    "    , \"InvoiceNo\" : [536365, 536999, 693365, 24987, 56832, 254232]    \n",
    "    , \"TotalInvoice\": [30000,28000,27900,29000,25000,24600]\n",
    "})"
   ]
  },
  {
   "cell_type": "markdown",
   "id": "3fdb5a72-ecda-4731-b43c-1d3027807a79",
   "metadata": {},
   "source": [
    "*Answer:*"
   ]
  },
  {
   "cell_type": "code",
   "execution_count": null,
   "id": "dd95f2b7-6487-45a5-8634-68e11823ead6",
   "metadata": {},
   "outputs": [],
   "source": []
  },
  {
   "cell_type": "markdown",
   "id": "e894a0a7-ca82-496c-8ede-21e238253736",
   "metadata": {},
   "source": [
    "**Ejercicio 3:** Genere el siguiente Dataset para cada uno de los clientes:"
   ]
  },
  {
   "cell_type": "code",
   "execution_count": 18,
   "id": "c441a2a1-eb4c-4338-85b3-282e5c681076",
   "metadata": {},
   "outputs": [
    {
     "data": {
      "text/html": [
       "<div>\n",
       "<style scoped>\n",
       "    .dataframe tbody tr th:only-of-type {\n",
       "        vertical-align: middle;\n",
       "    }\n",
       "\n",
       "    .dataframe tbody tr th {\n",
       "        vertical-align: top;\n",
       "    }\n",
       "\n",
       "    .dataframe thead th {\n",
       "        text-align: right;\n",
       "    }\n",
       "</style>\n",
       "<table border=\"1\" class=\"dataframe\">\n",
       "  <thead>\n",
       "    <tr style=\"text-align: right;\">\n",
       "      <th></th>\n",
       "      <th>CustomerID</th>\n",
       "      <th>YearMonth</th>\n",
       "      <th>TotalValorInvoices</th>\n",
       "      <th>TotalCantidadInvoices</th>\n",
       "      <th>FacturaSiguienteMes</th>\n",
       "    </tr>\n",
       "  </thead>\n",
       "  <tbody>\n",
       "    <tr>\n",
       "      <th>0</th>\n",
       "      <td>111</td>\n",
       "      <td>2019-1</td>\n",
       "      <td>20000</td>\n",
       "      <td>3</td>\n",
       "      <td>1</td>\n",
       "    </tr>\n",
       "    <tr>\n",
       "      <th>1</th>\n",
       "      <td>111</td>\n",
       "      <td>2019-2</td>\n",
       "      <td>22000</td>\n",
       "      <td>2</td>\n",
       "      <td>0</td>\n",
       "    </tr>\n",
       "    <tr>\n",
       "      <th>2</th>\n",
       "      <td>111</td>\n",
       "      <td>2019-3</td>\n",
       "      <td>0</td>\n",
       "      <td>0</td>\n",
       "      <td>1</td>\n",
       "    </tr>\n",
       "  </tbody>\n",
       "</table>\n",
       "</div>"
      ],
      "text/plain": [
       "   CustomerID YearMonth  TotalValorInvoices  TotalCantidadInvoices  \\\n",
       "0         111    2019-1               20000                      3   \n",
       "1         111    2019-2               22000                      2   \n",
       "2         111    2019-3                   0                      0   \n",
       "\n",
       "   FacturaSiguienteMes  \n",
       "0                    1  \n",
       "1                    0  \n",
       "2                    1  "
      ]
     },
     "execution_count": 18,
     "metadata": {},
     "output_type": "execute_result"
    }
   ],
   "source": [
    "pd.DataFrame({\n",
    "    \"CustomerID\" : [111,111,111]\n",
    "    , \"YearMonth\" : [\"2019-1\",\"2019-2\",\"2019-3\"]\n",
    "    , \"TotalValorInvoices\" : [20000,22000,0]    \n",
    "    , \"TotalCantidadInvoices\" : [3,2,0]    \n",
    "    , \"FacturaSiguienteMes\": [1,0,1]\n",
    "})"
   ]
  },
  {
   "cell_type": "markdown",
   "id": "503648d0-6b5e-4704-be64-56ab14f9b0a9",
   "metadata": {},
   "source": [
    "*Ten en cuenta lo siguiente:*\n",
    "\n",
    "Mediante el cross join puedo emular el producto cartesiano de dos vectores para obtener las combinaciones unicas de los valores de cada uno de ellos"
   ]
  },
  {
   "cell_type": "code",
   "execution_count": 21,
   "id": "486623c5-ff8e-4ed2-b9c9-9eb70830f526",
   "metadata": {},
   "outputs": [
    {
     "data": {
      "text/html": [
       "<div>\n",
       "<style scoped>\n",
       "    .dataframe tbody tr th:only-of-type {\n",
       "        vertical-align: middle;\n",
       "    }\n",
       "\n",
       "    .dataframe tbody tr th {\n",
       "        vertical-align: top;\n",
       "    }\n",
       "\n",
       "    .dataframe thead th {\n",
       "        text-align: right;\n",
       "    }\n",
       "</style>\n",
       "<table border=\"1\" class=\"dataframe\">\n",
       "  <thead>\n",
       "    <tr style=\"text-align: right;\">\n",
       "      <th></th>\n",
       "      <th>Cliente</th>\n",
       "      <th>year</th>\n",
       "    </tr>\n",
       "  </thead>\n",
       "  <tbody>\n",
       "    <tr>\n",
       "      <th>0</th>\n",
       "      <td>111</td>\n",
       "      <td>2019</td>\n",
       "    </tr>\n",
       "    <tr>\n",
       "      <th>1</th>\n",
       "      <td>111</td>\n",
       "      <td>2020</td>\n",
       "    </tr>\n",
       "    <tr>\n",
       "      <th>2</th>\n",
       "      <td>112</td>\n",
       "      <td>2019</td>\n",
       "    </tr>\n",
       "    <tr>\n",
       "      <th>3</th>\n",
       "      <td>112</td>\n",
       "      <td>2020</td>\n",
       "    </tr>\n",
       "    <tr>\n",
       "      <th>4</th>\n",
       "      <td>113</td>\n",
       "      <td>2019</td>\n",
       "    </tr>\n",
       "    <tr>\n",
       "      <th>5</th>\n",
       "      <td>113</td>\n",
       "      <td>2020</td>\n",
       "    </tr>\n",
       "  </tbody>\n",
       "</table>\n",
       "</div>"
      ],
      "text/plain": [
       "   Cliente  year\n",
       "0      111  2019\n",
       "1      111  2020\n",
       "2      112  2019\n",
       "3      112  2020\n",
       "4      113  2019\n",
       "5      113  2020"
      ]
     },
     "execution_count": 21,
     "metadata": {},
     "output_type": "execute_result"
    }
   ],
   "source": [
    "df1 = pd.DataFrame( {\"year\": [2019,2020]} )\n",
    "df2 = pd.DataFrame( {\"Cliente\": [111,112,113]} )\n",
    "\n",
    "df2.merge(df1, how='cross')"
   ]
  },
  {
   "cell_type": "markdown",
   "id": "4479e728-d5ce-4513-8289-2a7f74a15243",
   "metadata": {},
   "source": [
    "*Observaciones:*\n",
    "\n",
    "* TotalValorInvoices: La suma del total facturado por todas sus facturas\n",
    "* TotalCantidadInvoices: La cantidad de facturas unicas realizadas en ese mes\n",
    "* FacturaSiguienteMes: Una variable de respuesta que nos dice si al siguiente mes por ese cliente se encontro por lo menos una factura.\n",
    "\n",
    "Note que por la logica de este dataset el ultimo año-mes encontrado en todo el dataset se va a descartar del resultado final por que no se sabe el valor del siguiente mes.\n",
    "\n",
    "*Answer:*"
   ]
  },
  {
   "cell_type": "code",
   "execution_count": null,
   "id": "f990d2c9-e833-4390-b6cd-a232c9068228",
   "metadata": {},
   "outputs": [],
   "source": []
  },
  {
   "cell_type": "markdown",
   "id": "d043c4cd-ac71-48c8-917f-b649a7df0f84",
   "metadata": {},
   "source": [
    "**Ejercicio cuatro:** Cual es el top 3 de los productos que menos ingresos generan por Pais del ultimo año encontrado del dataset.\n",
    "\n",
    "Ejemplo de como se deberia de ver el dataframe resultante (Recuerde que este es un ejemplo inventado): "
   ]
  },
  {
   "cell_type": "code",
   "execution_count": 27,
   "id": "ff6a650c-8712-4b8a-b3ed-6e4c35c3c159",
   "metadata": {},
   "outputs": [
    {
     "data": {
      "text/html": [
       "<div>\n",
       "<style scoped>\n",
       "    .dataframe tbody tr th:only-of-type {\n",
       "        vertical-align: middle;\n",
       "    }\n",
       "\n",
       "    .dataframe tbody tr th {\n",
       "        vertical-align: top;\n",
       "    }\n",
       "\n",
       "    .dataframe thead th {\n",
       "        text-align: right;\n",
       "    }\n",
       "</style>\n",
       "<table border=\"1\" class=\"dataframe\">\n",
       "  <thead>\n",
       "    <tr style=\"text-align: right;\">\n",
       "      <th></th>\n",
       "      <th>Country</th>\n",
       "      <th>Top</th>\n",
       "      <th>StockCode</th>\n",
       "      <th>Description</th>\n",
       "      <th>TotalOnInvoices</th>\n",
       "    </tr>\n",
       "  </thead>\n",
       "  <tbody>\n",
       "    <tr>\n",
       "      <th>0</th>\n",
       "      <td>Canada</td>\n",
       "      <td>1</td>\n",
       "      <td>546</td>\n",
       "      <td>Product X</td>\n",
       "      <td>2000</td>\n",
       "    </tr>\n",
       "    <tr>\n",
       "      <th>1</th>\n",
       "      <td>Canada</td>\n",
       "      <td>2</td>\n",
       "      <td>6886</td>\n",
       "      <td>Product K</td>\n",
       "      <td>2100</td>\n",
       "    </tr>\n",
       "    <tr>\n",
       "      <th>2</th>\n",
       "      <td>Canada</td>\n",
       "      <td>3</td>\n",
       "      <td>665</td>\n",
       "      <td>Product J</td>\n",
       "      <td>4000</td>\n",
       "    </tr>\n",
       "    <tr>\n",
       "      <th>3</th>\n",
       "      <td>Spain</td>\n",
       "      <td>1</td>\n",
       "      <td>656</td>\n",
       "      <td>Product C</td>\n",
       "      <td>3000</td>\n",
       "    </tr>\n",
       "    <tr>\n",
       "      <th>4</th>\n",
       "      <td>Spain</td>\n",
       "      <td>2</td>\n",
       "      <td>888</td>\n",
       "      <td>Product D</td>\n",
       "      <td>3800</td>\n",
       "    </tr>\n",
       "    <tr>\n",
       "      <th>5</th>\n",
       "      <td>Spain</td>\n",
       "      <td>3</td>\n",
       "      <td>668</td>\n",
       "      <td>Product U</td>\n",
       "      <td>3900</td>\n",
       "    </tr>\n",
       "  </tbody>\n",
       "</table>\n",
       "</div>"
      ],
      "text/plain": [
       "  Country  Top  StockCode Description  TotalOnInvoices\n",
       "0  Canada    1        546   Product X             2000\n",
       "1  Canada    2       6886   Product K             2100\n",
       "2  Canada    3        665   Product J             4000\n",
       "3   Spain    1        656   Product C             3000\n",
       "4   Spain    2        888   Product D             3800\n",
       "5   Spain    3        668   Product U             3900"
      ]
     },
     "execution_count": 27,
     "metadata": {},
     "output_type": "execute_result"
    }
   ],
   "source": [
    "pd.DataFrame({\n",
    "    \"Country\" : [\"Canada\",\"Canada\",\"Canada\",\"Spain\",\"Spain\",\"Spain\"]\n",
    "    , \"Top\" : [1,2,3,1,2,3]    \n",
    "    , \"StockCode\": [546,6886,665,656,888,668]\n",
    "    , \"Description\": [\"Product X\",\"Product K\",\"Product J\",\"Product C\",\"Product D\",\"Product U\"]\n",
    "    , \"TotalOnInvoices\": [2000,2100,4000,3000,3800,3900]\n",
    "})"
   ]
  },
  {
   "cell_type": "markdown",
   "id": "bb2be3fe-1766-4969-abd5-f60a2908d967",
   "metadata": {},
   "source": [
    "*Answer:*"
   ]
  },
  {
   "cell_type": "code",
   "execution_count": null,
   "id": "ca027bdd-7bf8-43ac-8a0e-0e0748da5b0d",
   "metadata": {},
   "outputs": [],
   "source": []
  }
 ],
 "metadata": {
  "kernelspec": {
   "display_name": "Python 3",
   "language": "python",
   "name": "python3"
  },
  "language_info": {
   "codemirror_mode": {
    "name": "ipython",
    "version": 3
   },
   "file_extension": ".py",
   "mimetype": "text/x-python",
   "name": "python",
   "nbconvert_exporter": "python",
   "pygments_lexer": "ipython3",
   "version": "3.8.8"
  }
 },
 "nbformat": 4,
 "nbformat_minor": 5
}
